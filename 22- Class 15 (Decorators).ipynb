{
 "cells": [
  {
   "cell_type": "markdown",
   "id": "bc4b01fb-e340-4831-826c-446762bf9ac4",
   "metadata": {},
   "source": [
    "# DECORATORS"
   ]
  },
  {
   "cell_type": "markdown",
   "id": "a665810b-3a81-4ae5-8f96-586ef4bb1ce7",
   "metadata": {},
   "source": [
    "A decorator allows you to add new functionality to a function without modifying its structure. Essentially, it lets you wrap a function to enhance or modify its behavior.\n",
    "\n",
    "Meaning they take a function as input and return a new function with additional functionality."
   ]
  },
  {
   "cell_type": "markdown",
   "id": "52c1ea06-ef2e-4c91-87b2-5aacef178f60",
   "metadata": {},
   "source": [
    "* Functions as an objects\n",
    "* Function as an arguments\n",
    "* Functions as an inner or nested Functions (Return functions from other functions)"
   ]
  },
  {
   "cell_type": "code",
   "execution_count": 1,
   "id": "949a979f-cdec-4bcb-95f8-4a474cd8f029",
   "metadata": {},
   "outputs": [],
   "source": [
    "def study():\n",
    "    print(\"Ayaan is studying in class 6\")"
   ]
  },
  {
   "cell_type": "code",
   "execution_count": 2,
   "id": "057ead11-2f65-4480-92d5-460f287fe892",
   "metadata": {},
   "outputs": [
    {
     "name": "stdout",
     "output_type": "stream",
     "text": [
      "Ayaan is studying in class 6\n"
     ]
    }
   ],
   "source": [
    "study()"
   ]
  },
  {
   "cell_type": "code",
   "execution_count": 3,
   "id": "7d351ce7-e1b5-42cd-8e49-8457137c8464",
   "metadata": {},
   "outputs": [
    {
     "data": {
      "text/plain": [
       "1"
      ]
     },
     "execution_count": 3,
     "metadata": {},
     "output_type": "execute_result"
    }
   ],
   "source": [
    "a = 1\n",
    "a"
   ]
  },
  {
   "cell_type": "code",
   "execution_count": 4,
   "id": "2d60547c-05d2-49e1-a9e8-03a04de3f217",
   "metadata": {},
   "outputs": [
    {
     "data": {
      "text/plain": [
       "'ali'"
      ]
     },
     "execution_count": 4,
     "metadata": {},
     "output_type": "execute_result"
    }
   ],
   "source": [
    "b = 'ali'\n",
    "b"
   ]
  },
  {
   "cell_type": "code",
   "execution_count": 5,
   "id": "7e7a1c8c-1e88-4919-8912-931dc201fae7",
   "metadata": {},
   "outputs": [
    {
     "data": {
      "text/plain": [
       "<function __main__.study()>"
      ]
     },
     "execution_count": 5,
     "metadata": {},
     "output_type": "execute_result"
    }
   ],
   "source": [
    "study"
   ]
  },
  {
   "cell_type": "code",
   "execution_count": 6,
   "id": "3dde349e-c6f6-4785-be84-8741198466b5",
   "metadata": {},
   "outputs": [
    {
     "name": "stdout",
     "output_type": "stream",
     "text": [
      "Ayaan is studying in class 6\n"
     ]
    }
   ],
   "source": [
    "study()"
   ]
  },
  {
   "cell_type": "code",
   "execution_count": 7,
   "id": "c83aa3c9-27e7-4f1f-950c-2be94812c14e",
   "metadata": {},
   "outputs": [
    {
     "data": {
      "text/plain": [
       "<function __main__.study()>"
      ]
     },
     "execution_count": 7,
     "metadata": {},
     "output_type": "execute_result"
    }
   ],
   "source": [
    "# function as an object\n",
    "name = study \n",
    "name"
   ]
  },
  {
   "cell_type": "code",
   "execution_count": 8,
   "id": "ba272be1-27ae-44c4-be5c-7cedb4dac061",
   "metadata": {},
   "outputs": [
    {
     "name": "stdout",
     "output_type": "stream",
     "text": [
      "Ayaan is studying in class 6\n"
     ]
    }
   ],
   "source": [
    "name = study\n",
    "name()"
   ]
  },
  {
   "cell_type": "code",
   "execution_count": 9,
   "id": "e34283a0-31a5-4816-a795-ad08d09ada9d",
   "metadata": {},
   "outputs": [],
   "source": [
    "# function as an arguments\n",
    "def subjects():\n",
    "    print(\"Ayaan is learning maths\")\n",
    "    # original_function()\n",
    "    print(\"Ayaan is also learning another subjects\")"
   ]
  },
  {
   "cell_type": "code",
   "execution_count": 10,
   "id": "fa4b7fcf-7d32-4a4b-bf33-65688f3bd208",
   "metadata": {},
   "outputs": [
    {
     "name": "stdout",
     "output_type": "stream",
     "text": [
      "Ayaan is learning maths\n",
      "Ayaan is also learning another subjects\n"
     ]
    }
   ],
   "source": [
    "subjects()"
   ]
  },
  {
   "cell_type": "code",
   "execution_count": 11,
   "id": "db4fea1b-d6f8-41cf-a69f-e8614a1b7b9c",
   "metadata": {},
   "outputs": [],
   "source": [
    "def study():\n",
    "    print(\"Ayaan is studying in class 6\")"
   ]
  },
  {
   "cell_type": "code",
   "execution_count": 12,
   "id": "8ea15a0b-cf2b-408c-81f1-1582c64c07e6",
   "metadata": {},
   "outputs": [],
   "source": [
    "def subjects(original):\n",
    "    print(\"Ayaan is learning maths\")\n",
    "    original()\n",
    "    print(\"Ayaan is also learning another subjects\")"
   ]
  },
  {
   "cell_type": "code",
   "execution_count": 13,
   "id": "83bb4053-a0bd-448e-863b-4e9dfb20b353",
   "metadata": {},
   "outputs": [
    {
     "name": "stdout",
     "output_type": "stream",
     "text": [
      "Ayaan is learning maths\n",
      "Ayaan is studying in class 6\n",
      "Ayaan is also learning another subjects\n"
     ]
    }
   ],
   "source": [
    "subjects(study) #function (study) used here as an argument"
   ]
  },
  {
   "cell_type": "code",
   "execution_count": 14,
   "id": "a2350b14-9809-4551-a710-f0171a8b40d6",
   "metadata": {},
   "outputs": [
    {
     "name": "stdout",
     "output_type": "stream",
     "text": [
      "Ayaan is studying in class 6\n",
      "Ayaan is learning maths\n"
     ]
    },
    {
     "ename": "TypeError",
     "evalue": "'NoneType' object is not callable",
     "output_type": "error",
     "traceback": [
      "\u001b[1;31m---------------------------------------------------------------------------\u001b[0m",
      "\u001b[1;31mTypeError\u001b[0m                                 Traceback (most recent call last)",
      "Cell \u001b[1;32mIn[14], line 1\u001b[0m\n\u001b[1;32m----> 1\u001b[0m subjects(study())\n",
      "Cell \u001b[1;32mIn[12], line 3\u001b[0m, in \u001b[0;36msubjects\u001b[1;34m(original)\u001b[0m\n\u001b[0;32m      1\u001b[0m \u001b[38;5;28;01mdef\u001b[39;00m \u001b[38;5;21msubjects\u001b[39m(original):\n\u001b[0;32m      2\u001b[0m     \u001b[38;5;28mprint\u001b[39m(\u001b[38;5;124m\"\u001b[39m\u001b[38;5;124mAyaan is learning maths\u001b[39m\u001b[38;5;124m\"\u001b[39m)\n\u001b[1;32m----> 3\u001b[0m     original()\n\u001b[0;32m      4\u001b[0m     \u001b[38;5;28mprint\u001b[39m(\u001b[38;5;124m\"\u001b[39m\u001b[38;5;124mAyaan is also learning another subjects\u001b[39m\u001b[38;5;124m\"\u001b[39m)\n",
      "\u001b[1;31mTypeError\u001b[0m: 'NoneType' object is not callable"
     ]
    }
   ],
   "source": [
    "subjects(study())"
   ]
  },
  {
   "cell_type": "code",
   "execution_count": 15,
   "id": "29b4b2a3-b8b8-47b3-b526-7b7266f0c22e",
   "metadata": {},
   "outputs": [
    {
     "data": {
      "text/plain": [
       "<function __main__.nested_fun.<locals>.inner_func()>"
      ]
     },
     "execution_count": 15,
     "metadata": {},
     "output_type": "execute_result"
    }
   ],
   "source": [
    "def nested_fun():\n",
    "    def inner_func():\n",
    "        return \"Here you called me\"\n",
    "    return inner_func  # Return the function object (closure)\n",
    "    # It returns the function object inner_func, but doesn’t execute it\n",
    "\n",
    "nested_fun()"
   ]
  },
  {
   "cell_type": "code",
   "execution_count": 16,
   "id": "7db6fbbe-1922-4964-9b49-00b184040ca4",
   "metadata": {},
   "outputs": [
    {
     "data": {
      "text/plain": [
       "'Here you called me'"
      ]
     },
     "execution_count": 16,
     "metadata": {},
     "output_type": "execute_result"
    }
   ],
   "source": [
    "def nested_fun():\n",
    "    def inner_func():\n",
    "        return \"Here you called me\"\n",
    "    return inner_func()\n",
    "\n",
    "nested_fun()"
   ]
  },
  {
   "cell_type": "code",
   "execution_count": 17,
   "id": "4fa2eb06-53b6-433a-a993-bf924a9060b1",
   "metadata": {},
   "outputs": [],
   "source": [
    "# Closures: Where a function returned from another function \"remembers\" variables from its enclosing scope.\n",
    "# Higher-order functions: Functions that take other functions as arguments or return them."
   ]
  },
  {
   "cell_type": "code",
   "execution_count": 18,
   "id": "7dbe68ee-b432-4c02-85d1-bfa7ed3db6ca",
   "metadata": {},
   "outputs": [
    {
     "data": {
      "text/plain": [
       "<function __main__.nested_fun.<locals>.inner_func()>"
      ]
     },
     "execution_count": 18,
     "metadata": {},
     "output_type": "execute_result"
    }
   ],
   "source": [
    "def nested_fun():\n",
    "    def inner_func():\n",
    "        return \"Here you called me\"\n",
    "    return inner_func  # Return the function object (closure)\n",
    "    # It returns the function object inner_func, but doesn’t execute it\n",
    "\n",
    "nested_fun()"
   ]
  },
  {
   "cell_type": "code",
   "execution_count": 19,
   "id": "12f12baa-f07a-4c30-903a-05b70470b452",
   "metadata": {},
   "outputs": [],
   "source": [
    "returned_function = nested_fun()"
   ]
  },
  {
   "cell_type": "code",
   "execution_count": 20,
   "id": "4c70a3df-c8b0-4dff-82a8-221b57d53ab2",
   "metadata": {},
   "outputs": [
    {
     "data": {
      "text/plain": [
       "<function __main__.nested_fun.<locals>.inner_func()>"
      ]
     },
     "execution_count": 20,
     "metadata": {},
     "output_type": "execute_result"
    }
   ],
   "source": [
    "returned_function"
   ]
  },
  {
   "cell_type": "code",
   "execution_count": 21,
   "id": "891633cd-803a-4dd5-8cdd-4f8cced7850e",
   "metadata": {},
   "outputs": [
    {
     "data": {
      "text/plain": [
       "'Here you called me'"
      ]
     },
     "execution_count": 21,
     "metadata": {},
     "output_type": "execute_result"
    }
   ],
   "source": [
    "returned_function()"
   ]
  },
  {
   "cell_type": "code",
   "execution_count": 22,
   "id": "978e9e4b-1323-46dd-831a-2e424b655e87",
   "metadata": {},
   "outputs": [
    {
     "ename": "TypeError",
     "evalue": "subjects() missing 1 required positional argument: 'original_function'",
     "output_type": "error",
     "traceback": [
      "\u001b[1;31m---------------------------------------------------------------------------\u001b[0m",
      "\u001b[1;31mTypeError\u001b[0m                                 Traceback (most recent call last)",
      "Cell \u001b[1;32mIn[22], line 11\u001b[0m\n\u001b[0;32m      8\u001b[0m         \u001b[38;5;28mprint\u001b[39m(\u001b[38;5;124m\"\u001b[39m\u001b[38;5;124mAyaan is also learning another subjects\u001b[39m\u001b[38;5;124m\"\u001b[39m)\n\u001b[0;32m      9\u001b[0m     \u001b[38;5;28;01mreturn\u001b[39;00m student\n\u001b[1;32m---> 11\u001b[0m subjects()\n",
      "\u001b[1;31mTypeError\u001b[0m: subjects() missing 1 required positional argument: 'original_function'"
     ]
    }
   ],
   "source": [
    "def study():\n",
    "    print(\"Ayaan is studying in class 6\")\n",
    "\n",
    "def subjects(original_function):\n",
    "    def student():\n",
    "        print(\"Ayaan is learning maths\")\n",
    "        original_function()\n",
    "        print(\"Ayaan is also learning another subjects\")\n",
    "    return student\n",
    "\n",
    "subjects()"
   ]
  },
  {
   "cell_type": "code",
   "execution_count": 23,
   "id": "0b3e5e6e-8c7d-4d77-98ff-e858f16819c5",
   "metadata": {},
   "outputs": [
    {
     "data": {
      "text/plain": [
       "<function __main__.subjects.<locals>.student()>"
      ]
     },
     "execution_count": 23,
     "metadata": {},
     "output_type": "execute_result"
    }
   ],
   "source": [
    "subjects(study)"
   ]
  },
  {
   "cell_type": "code",
   "execution_count": 24,
   "id": "a9b3750b-fced-479b-8acd-66eb6a74b3ba",
   "metadata": {},
   "outputs": [],
   "source": [
    "decorated_fun = subjects(study)"
   ]
  },
  {
   "cell_type": "code",
   "execution_count": 25,
   "id": "00d56734-0699-409d-b3ca-911e5ae42b95",
   "metadata": {},
   "outputs": [
    {
     "data": {
      "text/plain": [
       "<function __main__.subjects.<locals>.student()>"
      ]
     },
     "execution_count": 25,
     "metadata": {},
     "output_type": "execute_result"
    }
   ],
   "source": [
    "decorated_fun"
   ]
  },
  {
   "cell_type": "code",
   "execution_count": 26,
   "id": "80145fdc-5874-4eed-b9cf-bf4d0b55ddc6",
   "metadata": {},
   "outputs": [
    {
     "name": "stdout",
     "output_type": "stream",
     "text": [
      "Ayaan is learning maths\n",
      "Ayaan is studying in class 6\n",
      "Ayaan is also learning another subjects\n"
     ]
    }
   ],
   "source": [
    "decorated_fun()"
   ]
  },
  {
   "cell_type": "markdown",
   "id": "00b4a4d7-7320-420a-b933-3b4dd5735f32",
   "metadata": {},
   "source": [
    "### Syntatic Sugar concept in decorator"
   ]
  },
  {
   "cell_type": "markdown",
   "id": "17d9763d-d2ba-434a-ab93-6a80e38908e4",
   "metadata": {},
   "source": [
    "Syntactic sugar is syntax within a programming language that makes code easier to write, read, and understand. It doesn’t add new functionality to the language; it just makes the language more user-friendly by providing shorthand ways of writing things."
   ]
  },
  {
   "cell_type": "code",
   "execution_count": 27,
   "id": "19a255a8-c1d9-4ff2-a2b8-3f7077da049a",
   "metadata": {},
   "outputs": [
    {
     "name": "stdout",
     "output_type": "stream",
     "text": [
      "8\n"
     ]
    }
   ],
   "source": [
    "x = 5 #without syntatic sugar\n",
    "x = x + 3\n",
    "print(x)  # Output: 8"
   ]
  },
  {
   "cell_type": "code",
   "execution_count": 28,
   "id": "db652c3e-b459-46f8-9758-7ba7e8b0ede9",
   "metadata": {},
   "outputs": [
    {
     "name": "stdout",
     "output_type": "stream",
     "text": [
      "8\n"
     ]
    }
   ],
   "source": [
    "x = 5 #with syntatic sugar\n",
    "x += 3\n",
    "print(x)  # Output: 8"
   ]
  },
  {
   "cell_type": "code",
   "execution_count": 29,
   "id": "c0f3f5e4-d13c-4bdc-9e0d-2e9f18105834",
   "metadata": {},
   "outputs": [
    {
     "name": "stdout",
     "output_type": "stream",
     "text": [
      "-8\n"
     ]
    }
   ],
   "source": [
    "x = 5 #with syntatic sugar\n",
    "x += 3\n",
    "print(-x)  # Output: 8"
   ]
  },
  {
   "cell_type": "code",
   "execution_count": 30,
   "id": "792c1a3c-6b11-4de9-a911-984ecd4af06f",
   "metadata": {},
   "outputs": [
    {
     "name": "stdout",
     "output_type": "stream",
     "text": [
      "-2\n"
     ]
    }
   ],
   "source": [
    "print(-2)"
   ]
  },
  {
   "cell_type": "code",
   "execution_count": 31,
   "id": "352e7548-cb27-4432-a948-80ffcfb7ef04",
   "metadata": {},
   "outputs": [],
   "source": [
    "def study(): #Without Syntactic Sugar:\n",
    "    print(\"Ayaan is studying in class 6\")\n",
    "\n",
    "def subjects(original_function):\n",
    "    def student():\n",
    "        print(\"Ayaan is learning maths\")\n",
    "        original_function()\n",
    "        print(\"Ayaan is also learning another subjects\")\n",
    "    return student"
   ]
  },
  {
   "cell_type": "code",
   "execution_count": 32,
   "id": "c4a816aa-aac9-4a45-b8ef-377530d7ffcd",
   "metadata": {},
   "outputs": [
    {
     "data": {
      "text/plain": [
       "<function __main__.subjects.<locals>.student()>"
      ]
     },
     "execution_count": 32,
     "metadata": {},
     "output_type": "execute_result"
    }
   ],
   "source": [
    "subjects(study)"
   ]
  },
  {
   "cell_type": "code",
   "execution_count": 33,
   "id": "8d1ea81b-fb2d-41e5-b705-009dbb4d6d59",
   "metadata": {},
   "outputs": [],
   "source": [
    "decorated_fun = subjects(study)"
   ]
  },
  {
   "cell_type": "code",
   "execution_count": 34,
   "id": "f37c1e4f-8fa1-4355-aa6a-6432779e7aee",
   "metadata": {},
   "outputs": [
    {
     "name": "stdout",
     "output_type": "stream",
     "text": [
      "Ayaan is learning maths\n",
      "Ayaan is studying in class 6\n",
      "Ayaan is also learning another subjects\n"
     ]
    }
   ],
   "source": [
    "decorated_fun()"
   ]
  },
  {
   "cell_type": "code",
   "execution_count": 35,
   "id": "ceaa0443-d2b2-47e9-a3a1-a34f8099d945",
   "metadata": {},
   "outputs": [],
   "source": [
    "@subjects    #With Syntactic Sugar in decoratos\n",
    "def study(): #subjects(study) study as an argument\n",
    "    print(\"Ayaan is studying in class 6\")"
   ]
  },
  {
   "cell_type": "code",
   "execution_count": 36,
   "id": "cdc6f822-d7fb-4747-8c65-229e9863af6a",
   "metadata": {},
   "outputs": [
    {
     "name": "stdout",
     "output_type": "stream",
     "text": [
      "Ayaan is learning maths\n",
      "Ayaan is studying in class 6\n",
      "Ayaan is also learning another subjects\n"
     ]
    }
   ],
   "source": [
    "study()"
   ]
  },
  {
   "cell_type": "code",
   "execution_count": 37,
   "id": "9caa9c9e-cfea-43ef-94f9-962f7c8618b3",
   "metadata": {},
   "outputs": [
    {
     "name": "stdout",
     "output_type": "stream",
     "text": [
      "Ayaan is learning maths\n",
      "Ayaan reputation\n",
      "Ayaan is also learning another subjects\n"
     ]
    }
   ],
   "source": [
    "@subjects #With Syntactic Sugar in decoratos\n",
    "def display():\n",
    "    print('Ayaan reputation')\n",
    "\n",
    "display()"
   ]
  },
  {
   "cell_type": "code",
   "execution_count": 38,
   "id": "616174c4-2fd7-43fd-a019-268d2ceedb5b",
   "metadata": {},
   "outputs": [],
   "source": [
    "def add():\n",
    "    print(\"Add both values:\", 5+6)\n",
    "\n",
    "def BODMAS(value):\n",
    "    def subtract():\n",
    "        print(\"subtract the value: \", 10-4)\n",
    "        value()\n",
    "        print(\"I am doing all exercise by using BODMAS rule\")\n",
    "    return subtract"
   ]
  },
  {
   "cell_type": "code",
   "execution_count": 39,
   "id": "c67c1481-1b52-4e49-91ad-022c897db6c8",
   "metadata": {},
   "outputs": [],
   "source": [
    "func_call = BODMAS(add)"
   ]
  },
  {
   "cell_type": "code",
   "execution_count": 40,
   "id": "bbf0b3ed-acdf-4053-837f-88398a469dbc",
   "metadata": {},
   "outputs": [
    {
     "name": "stdout",
     "output_type": "stream",
     "text": [
      "subtract the value:  6\n",
      "Add both values: 11\n",
      "I am doing all exercise by using BODMAS rule\n"
     ]
    }
   ],
   "source": [
    "func_call()"
   ]
  },
  {
   "cell_type": "code",
   "execution_count": 41,
   "id": "941e023d-5444-45f9-bfb6-2a654d76f700",
   "metadata": {},
   "outputs": [],
   "source": [
    "@BODMAS   # BODMAS(add)\n",
    "def add(): \n",
    "    print(\"Add both values:\", 5+6)"
   ]
  },
  {
   "cell_type": "code",
   "execution_count": 42,
   "id": "066d1bc0-dd94-4310-9cc8-7f88873bb9b4",
   "metadata": {},
   "outputs": [
    {
     "name": "stdout",
     "output_type": "stream",
     "text": [
      "subtract the value:  6\n",
      "Add both values: 11\n",
      "I am doing all exercise by using BODMAS rule\n"
     ]
    }
   ],
   "source": [
    "add()"
   ]
  },
  {
   "cell_type": "code",
   "execution_count": 43,
   "id": "f8178800-4994-4fea-95ae-a175dc559ebf",
   "metadata": {},
   "outputs": [],
   "source": [
    "@BODMAS\n",
    "def welcome():\n",
    "    print('hi,xyz')\n",
    "def study():\n",
    "    print('abc')"
   ]
  },
  {
   "cell_type": "code",
   "execution_count": 44,
   "id": "55e8f1e2-efdb-424b-bec5-9e171f1bdfaa",
   "metadata": {},
   "outputs": [
    {
     "name": "stdout",
     "output_type": "stream",
     "text": [
      "subtract the value:  6\n",
      "hi,xyz\n",
      "I am doing all exercise by using BODMAS rule\n"
     ]
    }
   ],
   "source": [
    "welcome()"
   ]
  },
  {
   "cell_type": "code",
   "execution_count": 45,
   "id": "a41aec73-c115-4300-912a-0e16e0f7ad06",
   "metadata": {},
   "outputs": [
    {
     "name": "stdout",
     "output_type": "stream",
     "text": [
      "abc\n"
     ]
    }
   ],
   "source": [
    "study()"
   ]
  },
  {
   "cell_type": "code",
   "execution_count": 46,
   "id": "139e5ad4-669d-451c-991d-ce852422a5b9",
   "metadata": {},
   "outputs": [],
   "source": [
    "@BODMAS\n",
    "def welcome():\n",
    "    print('hi,xyz')\n",
    "\n",
    "@BODMAS\n",
    "def study():\n",
    "    print('abc')"
   ]
  },
  {
   "cell_type": "code",
   "execution_count": 47,
   "id": "9e7ea55a-2258-46de-b0ef-4f3aff9720e7",
   "metadata": {},
   "outputs": [
    {
     "name": "stdout",
     "output_type": "stream",
     "text": [
      "subtract the value:  6\n",
      "abc\n",
      "I am doing all exercise by using BODMAS rule\n"
     ]
    }
   ],
   "source": [
    "study()"
   ]
  },
  {
   "cell_type": "code",
   "execution_count": 48,
   "id": "38cad159-ae6b-4efb-826e-78cbd49dad96",
   "metadata": {},
   "outputs": [],
   "source": [
    "def add():\n",
    "    print(\"Add both values:\", 5+6)\n",
    "\n",
    "def BODMAS(value):\n",
    "    def subtract():\n",
    "        print(\"subtract the value: \", 10-4)\n",
    "        value()\n",
    "        print(\"I am doing all exercise by using BODMAS rule\")\n",
    "\n",
    "    def division():\n",
    "        print(\"division\" , 10/2)\n",
    "        value()\n",
    "        print(\"I am doing all exercise by by using BODMAS rule\")\n",
    "        # return subtract\n",
    "    return division"
   ]
  },
  {
   "cell_type": "code",
   "execution_count": 49,
   "id": "b99b787c-ecf6-4fd4-87c9-93110537f2c7",
   "metadata": {},
   "outputs": [
    {
     "name": "stdout",
     "output_type": "stream",
     "text": [
      "division 5.0\n",
      "Add both values: 11\n",
      "I am doing all exercise by by using BODMAS rule\n"
     ]
    }
   ],
   "source": [
    "func_call = BODMAS(add)\n",
    "func_call()"
   ]
  },
  {
   "cell_type": "code",
   "execution_count": 50,
   "id": "d7617600-069b-4521-abc5-bb11d32659bf",
   "metadata": {},
   "outputs": [],
   "source": [
    "def add():\n",
    "    print(\"Add both values:\", 5+6)\n",
    "\n",
    "def BODMAS(value):\n",
    "    def subtract():\n",
    "        print(\"subtract the value: \", 10-4)\n",
    "        value()\n",
    "        print(\"I am doing all exercise by using BODMAS rule\")\n",
    "\n",
    "    def division():\n",
    "        print(\"division\" , 10/2)\n",
    "        subtract()\n",
    "        print(\"I am doing all exercise by by using BODMAS rule\")\n",
    "        # return subtract\n",
    "    return division"
   ]
  },
  {
   "cell_type": "code",
   "execution_count": 51,
   "id": "fea26272-f4b5-471f-93ae-702e5041f719",
   "metadata": {},
   "outputs": [
    {
     "name": "stdout",
     "output_type": "stream",
     "text": [
      "division 5.0\n",
      "subtract the value:  6\n",
      "Add both values: 11\n",
      "I am doing all exercise by using BODMAS rule\n",
      "I am doing all exercise by by using BODMAS rule\n"
     ]
    }
   ],
   "source": [
    "func_call = BODMAS(add)\n",
    "func_call()"
   ]
  },
  {
   "cell_type": "code",
   "execution_count": 52,
   "id": "0ce706cf-9d2e-4cb7-9178-d0dfb0b8a296",
   "metadata": {},
   "outputs": [],
   "source": [
    "def add():\n",
    "    print(\"Add both values:\", 5+6)\n",
    "\n",
    "def BODMAS(value):\n",
    "    def subtract():\n",
    "        print(\"subtract the value: \", 10-4)\n",
    "        value()\n",
    "        print(\"I am doing all exercise by using BODMAS rule\")\n",
    "\n",
    "    def division():\n",
    "        print(\"division\" , 10/2)\n",
    "        value()\n",
    "        print(\"I am doing all exercise by by using BODMAS rule\")\n",
    "        return subtract\n",
    "    return division()"
   ]
  },
  {
   "cell_type": "code",
   "execution_count": 53,
   "id": "8588d774-b3e9-431f-a787-b13f41e24df5",
   "metadata": {},
   "outputs": [
    {
     "name": "stdout",
     "output_type": "stream",
     "text": [
      "division 5.0\n",
      "Add both values: 11\n",
      "I am doing all exercise by by using BODMAS rule\n",
      "subtract the value:  6\n",
      "Add both values: 11\n",
      "I am doing all exercise by using BODMAS rule\n"
     ]
    }
   ],
   "source": [
    "func_call = BODMAS(add)\n",
    "func_call()"
   ]
  },
  {
   "cell_type": "code",
   "execution_count": 54,
   "id": "756cf89f-0305-4c6c-a257-ef2a669c9892",
   "metadata": {},
   "outputs": [],
   "source": [
    "def add():\n",
    "    print(\"Add both values:\", 5+6)\n",
    "\n",
    "def BODMAS(value):\n",
    "    def subtract():\n",
    "        print(\"subtract the value: \", 10-4)\n",
    "        value\n",
    "        print(\"I am doing all exercise by using BODMAS rule\")\n",
    "\n",
    "    def division():\n",
    "        print(\"division\" , 10/2)\n",
    "        value\n",
    "        print(\"I am doing all exercise by by using BODMAS rule\")\n",
    "        return subtract\n",
    "    return division()"
   ]
  },
  {
   "cell_type": "code",
   "execution_count": 55,
   "id": "46355926-1c2f-4338-8eac-5a20741ec11a",
   "metadata": {},
   "outputs": [
    {
     "name": "stdout",
     "output_type": "stream",
     "text": [
      "division 5.0\n",
      "I am doing all exercise by by using BODMAS rule\n",
      "subtract the value:  6\n",
      "I am doing all exercise by using BODMAS rule\n"
     ]
    }
   ],
   "source": [
    "func_call = BODMAS(add)\n",
    "func_call()"
   ]
  },
  {
   "cell_type": "code",
   "execution_count": 56,
   "id": "fa1b61f9-b086-49e8-8b74-7446cfafd65e",
   "metadata": {},
   "outputs": [],
   "source": [
    "def add():\n",
    "    print(\"Add both values:\", 5+6)\n",
    "    \n",
    "def BODMAS(value):\n",
    "    def subtract():\n",
    "        print(\"subtract the value: \", 10-4)\n",
    "        value()\n",
    "        print(\"I am doing all exercise by using BODMAS rule\")\n",
    "        \n",
    "    def division():\n",
    "        print(\"division\" , 10/2)\n",
    "        value()\n",
    "        print(\"I am doing all exercise by by using BODMAS rule\")\n",
    "    return subtract\n",
    "    return division"
   ]
  },
  {
   "cell_type": "code",
   "execution_count": 57,
   "id": "6a42662e-e318-47c9-a6a1-c1666c4a93e9",
   "metadata": {},
   "outputs": [
    {
     "name": "stdout",
     "output_type": "stream",
     "text": [
      "subtract the value:  6\n",
      "Add both values: 11\n",
      "I am doing all exercise by using BODMAS rule\n"
     ]
    }
   ],
   "source": [
    "func_call = BODMAS(add)\n",
    "func_call()"
   ]
  },
  {
   "cell_type": "code",
   "execution_count": null,
   "id": "3e6f8cd0-fd98-420e-bf15-5ce26aa0e603",
   "metadata": {},
   "outputs": [],
   "source": []
  }
 ],
 "metadata": {
  "kernelspec": {
   "display_name": "Python 3 (ipykernel)",
   "language": "python",
   "name": "python3"
  },
  "language_info": {
   "codemirror_mode": {
    "name": "ipython",
    "version": 3
   },
   "file_extension": ".py",
   "mimetype": "text/x-python",
   "name": "python",
   "nbconvert_exporter": "python",
   "pygments_lexer": "ipython3",
   "version": "3.12.7"
  }
 },
 "nbformat": 4,
 "nbformat_minor": 5
}
