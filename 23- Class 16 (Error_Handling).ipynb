{
 "cells": [
  {
   "cell_type": "code",
   "execution_count": 1,
   "id": "3b8f85df-8336-493e-9ac8-4ba9ab3ac1cc",
   "metadata": {},
   "outputs": [],
   "source": [
    "def add():\n",
    "    print(\"Add both values:\", 5+6)"
   ]
  },
  {
   "cell_type": "code",
   "execution_count": 2,
   "id": "9b54c44f-1f39-4c6f-8b93-8fbb447c9204",
   "metadata": {},
   "outputs": [],
   "source": [
    "def BODMAS(value):\n",
    "    def subtract():\n",
    "        print(\"subtract the value: \", 10-4)\n",
    "        value()\n",
    "        print(\"I am doing all exercise by using BODMAS rule\")\n",
    "\n",
    "    def division():\n",
    "        print(\"division\" , 10/2)\n",
    "        value()\n",
    "        print(\"I am doing all exercise by by using BODMAS rule\")\n",
    "        # return subtract\n",
    "    return division"
   ]
  },
  {
   "cell_type": "code",
   "execution_count": 3,
   "id": "deb80e61-b663-4f70-a1d0-d3d7aab07392",
   "metadata": {},
   "outputs": [],
   "source": [
    "func_call = BODMAS(add)"
   ]
  },
  {
   "cell_type": "code",
   "execution_count": 4,
   "id": "c55e62de-afa7-4c2d-97bd-f8316287a6e7",
   "metadata": {},
   "outputs": [
    {
     "name": "stdout",
     "output_type": "stream",
     "text": [
      "division 5.0\n",
      "Add both values: 11\n",
      "I am doing all exercise by by using BODMAS rule\n"
     ]
    }
   ],
   "source": [
    "func_call()"
   ]
  },
  {
   "cell_type": "code",
   "execution_count": 5,
   "id": "d96055fb-ad43-468f-9b68-dc79e043ba9f",
   "metadata": {},
   "outputs": [],
   "source": [
    "def BODMAS(value):\n",
    "    def subtract():\n",
    "        print(\"subtract the value: \", 10-4)\n",
    "        value()\n",
    "        print(\"I am doing all exercise by using BODMAS rule\")\n",
    "\n",
    "    def division():\n",
    "        print(\"division\" , 10/2)\n",
    "        subtract()\n",
    "        print(\"I am doing all exercise by by using BODMAS rule\")\n",
    "        # return subtract\n",
    "    return division"
   ]
  },
  {
   "cell_type": "code",
   "execution_count": 6,
   "id": "9512bc9b-93a3-48a1-9f4c-b232e5e7eb5e",
   "metadata": {},
   "outputs": [],
   "source": [
    "func_call = BODMAS(add)"
   ]
  },
  {
   "cell_type": "code",
   "execution_count": 7,
   "id": "a01081c6-339d-441d-b213-266c8523e086",
   "metadata": {},
   "outputs": [
    {
     "name": "stdout",
     "output_type": "stream",
     "text": [
      "division 5.0\n",
      "subtract the value:  6\n",
      "Add both values: 11\n",
      "I am doing all exercise by using BODMAS rule\n",
      "I am doing all exercise by by using BODMAS rule\n"
     ]
    }
   ],
   "source": [
    "func_call()"
   ]
  },
  {
   "cell_type": "code",
   "execution_count": 8,
   "id": "b6d60162-f6f0-4950-8d89-9361c9aac19a",
   "metadata": {},
   "outputs": [
    {
     "name": "stdout",
     "output_type": "stream",
     "text": [
      "division 5.0\n",
      "subtract the value:  6\n",
      "Add both values: 11\n",
      "I am doing all exercise by using BODMAS rule\n",
      "I am doing all exercise by by using BODMAS rule\n"
     ]
    }
   ],
   "source": [
    "@BODMAS #with syntatic sugar\n",
    "def add(): #BODMAS(add)\n",
    "    print(\"Add both values:\", 5+6)\n",
    "\n",
    "add()"
   ]
  },
  {
   "cell_type": "code",
   "execution_count": 9,
   "id": "aad43cf9-e111-4d1b-8572-64b1a3d5115d",
   "metadata": {},
   "outputs": [],
   "source": [
    "@BODMAS\n",
    "def welcome(): #BODMAS(welcome)\n",
    "    print('hi,xyz')\n",
    "def study():\n",
    "    print('abc')"
   ]
  },
  {
   "cell_type": "code",
   "execution_count": 10,
   "id": "4d92b221-23bc-4fc8-826c-8bcb7e472418",
   "metadata": {},
   "outputs": [
    {
     "name": "stdout",
     "output_type": "stream",
     "text": [
      "division 5.0\n",
      "subtract the value:  6\n",
      "hi,xyz\n",
      "I am doing all exercise by using BODMAS rule\n",
      "I am doing all exercise by by using BODMAS rule\n"
     ]
    }
   ],
   "source": [
    "welcome()"
   ]
  },
  {
   "cell_type": "code",
   "execution_count": 11,
   "id": "b54696f8-c9dc-47a9-834d-32d68dbe652a",
   "metadata": {},
   "outputs": [
    {
     "name": "stdout",
     "output_type": "stream",
     "text": [
      "abc\n"
     ]
    }
   ],
   "source": [
    "study()"
   ]
  },
  {
   "cell_type": "code",
   "execution_count": 12,
   "id": "850cce6e-b9f5-45b3-9e11-16a142a3fd8f",
   "metadata": {},
   "outputs": [],
   "source": [
    "@BODMAS\n",
    "def welcome():\n",
    "    print('hi,xyz')\n",
    "\n",
    "@BODMAS\n",
    "def study():\n",
    "    print('abc')"
   ]
  },
  {
   "cell_type": "code",
   "execution_count": 13,
   "id": "f4c67852-527b-4027-8e8a-7f4da1868d9c",
   "metadata": {},
   "outputs": [
    {
     "name": "stdout",
     "output_type": "stream",
     "text": [
      "division 5.0\n",
      "subtract the value:  6\n",
      "hi,xyz\n",
      "I am doing all exercise by using BODMAS rule\n",
      "I am doing all exercise by by using BODMAS rule\n"
     ]
    }
   ],
   "source": [
    "welcome()"
   ]
  },
  {
   "cell_type": "code",
   "execution_count": 14,
   "id": "5c693488-5798-4def-ac2b-b749500b3515",
   "metadata": {},
   "outputs": [
    {
     "name": "stdout",
     "output_type": "stream",
     "text": [
      "division 5.0\n",
      "subtract the value:  6\n",
      "abc\n",
      "I am doing all exercise by using BODMAS rule\n",
      "I am doing all exercise by by using BODMAS rule\n"
     ]
    }
   ],
   "source": [
    "study()"
   ]
  },
  {
   "cell_type": "code",
   "execution_count": 15,
   "id": "6c3c0fd8-6f9b-4878-a190-666191072e18",
   "metadata": {},
   "outputs": [
    {
     "name": "stdout",
     "output_type": "stream",
     "text": [
      "my this class grade is 90%\n"
     ]
    }
   ],
   "source": [
    "#noraml function\n",
    "def studyhard(result):\n",
    "    print(f\"my this class grade is {result}%\")\n",
    "\n",
    "studyhard(90)"
   ]
  },
  {
   "cell_type": "code",
   "execution_count": 16,
   "id": "1066a06e-17ab-4a56-85b6-e33b5a852250",
   "metadata": {},
   "outputs": [],
   "source": [
    "#arguments in nested func\n",
    "def subjects(original_function):\n",
    "    def student():\n",
    "        print(\"Ayaan is learning maths\")\n",
    "        original_function()\n",
    "        print(\"*******Ayaan is also learning another subjects********\")\n",
    "    return student"
   ]
  },
  {
   "cell_type": "code",
   "execution_count": 17,
   "id": "0a2cb794-4a91-478d-babb-40016109ccc0",
   "metadata": {},
   "outputs": [
    {
     "ename": "TypeError",
     "evalue": "subjects.<locals>.student() takes 0 positional arguments but 1 was given",
     "output_type": "error",
     "traceback": [
      "\u001b[1;31m---------------------------------------------------------------------------\u001b[0m",
      "\u001b[1;31mTypeError\u001b[0m                                 Traceback (most recent call last)",
      "Cell \u001b[1;32mIn[17], line 5\u001b[0m\n\u001b[0;32m      2\u001b[0m \u001b[38;5;129m@subjects\u001b[39m \u001b[38;5;66;03m#subjects(studyhard)\u001b[39;00m\n\u001b[0;32m      3\u001b[0m \u001b[38;5;28;01mdef\u001b[39;00m \u001b[38;5;21mstudyhard\u001b[39m(result): \u001b[38;5;66;03m#subjects function returns the student function, which will now replace studyhard when you call studyhard(90)\u001b[39;00m\n\u001b[0;32m      4\u001b[0m     \u001b[38;5;28mprint\u001b[39m(\u001b[38;5;124mf\u001b[39m\u001b[38;5;124m\"\u001b[39m\u001b[38;5;124mmy this class result is \u001b[39m\u001b[38;5;132;01m{\u001b[39;00mresult\u001b[38;5;132;01m}\u001b[39;00m\u001b[38;5;124m%\u001b[39m\u001b[38;5;124m\"\u001b[39m)\n\u001b[1;32m----> 5\u001b[0m studyhard(\u001b[38;5;241m90\u001b[39m)\n",
      "\u001b[1;31mTypeError\u001b[0m: subjects.<locals>.student() takes 0 positional arguments but 1 was given"
     ]
    }
   ],
   "source": [
    "# Decorated Function \n",
    "@subjects #subjects(studyhard)\n",
    "def studyhard(result): #subjects function returns the student function, which will now replace studyhard when you call studyhard(90)\n",
    "    print(f\"my this class result is {result}%\")\n",
    "studyhard(90)"
   ]
  },
  {
   "cell_type": "code",
   "execution_count": 18,
   "id": "27e523ba-d40a-4fc8-9acc-fcc5cf9485f8",
   "metadata": {},
   "outputs": [],
   "source": [
    "# Decorator Function\n",
    "def subjects(original_function):\n",
    "    def student(args):\n",
    "        print(\"Ayaan is learning maths\")\n",
    "        original_function(args)\n",
    "        print(\"Ayaan is also learning another subjects\")\n",
    "    return student"
   ]
  },
  {
   "cell_type": "code",
   "execution_count": 19,
   "id": "7b300f03-43ad-4f65-ae03-0f7eb753aa70",
   "metadata": {},
   "outputs": [
    {
     "name": "stdout",
     "output_type": "stream",
     "text": [
      "Ayaan is learning maths\n",
      "my this class grade is 90%\n",
      "Ayaan is also learning another subjects\n"
     ]
    }
   ],
   "source": [
    "# Decorated Function\n",
    "@subjects\n",
    "def studyhard(result):\n",
    "    print(f\"my this class grade is {result}%\")\n",
    "studyhard(90)"
   ]
  },
  {
   "cell_type": "code",
   "execution_count": 20,
   "id": "84c19949-f386-45cd-a0bf-f53c9d22ef43",
   "metadata": {},
   "outputs": [],
   "source": [
    "def subjects(original_function):\n",
    "    def student(args):\n",
    "        print(\"Ayaan is learning maths\")\n",
    "        original_function()\n",
    "        print(\"Ayaan is also learning another subjects\")\n",
    "    return student"
   ]
  },
  {
   "cell_type": "code",
   "execution_count": 21,
   "id": "00663766-40a6-41fd-a805-af540a1f7961",
   "metadata": {},
   "outputs": [
    {
     "name": "stdout",
     "output_type": "stream",
     "text": [
      "Ayaan is learning maths\n"
     ]
    },
    {
     "ename": "TypeError",
     "evalue": "studyhard() missing 1 required positional argument: 'result'",
     "output_type": "error",
     "traceback": [
      "\u001b[1;31m---------------------------------------------------------------------------\u001b[0m",
      "\u001b[1;31mTypeError\u001b[0m                                 Traceback (most recent call last)",
      "Cell \u001b[1;32mIn[21], line 4\u001b[0m\n\u001b[0;32m      1\u001b[0m \u001b[38;5;129m@subjects\u001b[39m\n\u001b[0;32m      2\u001b[0m \u001b[38;5;28;01mdef\u001b[39;00m \u001b[38;5;21mstudyhard\u001b[39m(result):\n\u001b[0;32m      3\u001b[0m     \u001b[38;5;28mprint\u001b[39m(\u001b[38;5;124mf\u001b[39m\u001b[38;5;124m\"\u001b[39m\u001b[38;5;124mmy this class grade is \u001b[39m\u001b[38;5;132;01m{\u001b[39;00mresult\u001b[38;5;132;01m}\u001b[39;00m\u001b[38;5;124m%\u001b[39m\u001b[38;5;124m\"\u001b[39m)\n\u001b[1;32m----> 4\u001b[0m studyhard(\u001b[38;5;241m90\u001b[39m)\n",
      "Cell \u001b[1;32mIn[20], line 4\u001b[0m, in \u001b[0;36msubjects.<locals>.student\u001b[1;34m(args)\u001b[0m\n\u001b[0;32m      2\u001b[0m \u001b[38;5;28;01mdef\u001b[39;00m \u001b[38;5;21mstudent\u001b[39m(args):\n\u001b[0;32m      3\u001b[0m     \u001b[38;5;28mprint\u001b[39m(\u001b[38;5;124m\"\u001b[39m\u001b[38;5;124mAyaan is learning maths\u001b[39m\u001b[38;5;124m\"\u001b[39m)\n\u001b[1;32m----> 4\u001b[0m     original_function()\n\u001b[0;32m      5\u001b[0m     \u001b[38;5;28mprint\u001b[39m(\u001b[38;5;124m\"\u001b[39m\u001b[38;5;124mAyaan is also learning another subjects\u001b[39m\u001b[38;5;124m\"\u001b[39m)\n",
      "\u001b[1;31mTypeError\u001b[0m: studyhard() missing 1 required positional argument: 'result'"
     ]
    }
   ],
   "source": [
    "@subjects\n",
    "def studyhard(result):\n",
    "    print(f\"my this class grade is {result}%\")\n",
    "studyhard(90)"
   ]
  },
  {
   "cell_type": "code",
   "execution_count": 24,
   "id": "0266dc58-e430-4e66-b013-7d5f337088eb",
   "metadata": {},
   "outputs": [],
   "source": [
    "# Decorator Function\n",
    "def subjects(original_function):\n",
    "    def student(arg):\n",
    "        print(\"Ayaan is learning maths\")\n",
    "        original_function(arg)\n",
    "        print(\"Ayaan is also learning another subjects\")\n",
    "    return student"
   ]
  },
  {
   "cell_type": "code",
   "execution_count": 25,
   "id": "c319cdd6-96d1-489e-8d3c-44803aeec018",
   "metadata": {},
   "outputs": [
    {
     "ename": "TypeError",
     "evalue": "subjects.<locals>.student() takes 1 positional argument but 2 were given",
     "output_type": "error",
     "traceback": [
      "\u001b[1;31m---------------------------------------------------------------------------\u001b[0m",
      "\u001b[1;31mTypeError\u001b[0m                                 Traceback (most recent call last)",
      "Cell \u001b[1;32mIn[25], line 5\u001b[0m\n\u001b[0;32m      2\u001b[0m \u001b[38;5;129m@subjects\u001b[39m\n\u001b[0;32m      3\u001b[0m \u001b[38;5;28;01mdef\u001b[39;00m \u001b[38;5;21mstudy\u001b[39m(result, per):\n\u001b[0;32m      4\u001b[0m     \u001b[38;5;28mprint\u001b[39m(\u001b[38;5;124mf\u001b[39m\u001b[38;5;124m\"\u001b[39m\u001b[38;5;124mmy this class grade is \u001b[39m\u001b[38;5;132;01m{\u001b[39;00mresult\u001b[38;5;132;01m}\u001b[39;00m\u001b[38;5;124m% and next time InshaAllah will get\u001b[39m\u001b[38;5;132;01m{\u001b[39;00mper\u001b[38;5;132;01m}\u001b[39;00m\u001b[38;5;124m%\u001b[39m\u001b[38;5;124m\"\u001b[39m)\n\u001b[1;32m----> 5\u001b[0m study(\u001b[38;5;241m90\u001b[39m,\u001b[38;5;241m99\u001b[39m)\n",
      "\u001b[1;31mTypeError\u001b[0m: subjects.<locals>.student() takes 1 positional argument but 2 were given"
     ]
    }
   ],
   "source": [
    "# Decorated Function\n",
    "@subjects\n",
    "def study(result, per):\n",
    "    print(f\"my this class grade is {result}% and next time InshaAllah will get{per}%\")\n",
    "study(90,99)"
   ]
  },
  {
   "cell_type": "code",
   "execution_count": 26,
   "id": "e7d01b45-dcac-429b-a2c3-b67e8a89a482",
   "metadata": {},
   "outputs": [],
   "source": [
    "# Decorator Function\n",
    "def subjects(original_function):\n",
    "    def student(*args):\n",
    "        print(\"Ayaan is learning maths\")\n",
    "        original_function(*args)\n",
    "        print(\"Ayaan is also learning another subjects\")\n",
    "    return student"
   ]
  },
  {
   "cell_type": "code",
   "execution_count": 27,
   "id": "c95e53a3-073d-4bd2-acba-5d29a129eeff",
   "metadata": {},
   "outputs": [
    {
     "name": "stdout",
     "output_type": "stream",
     "text": [
      "Ayaan is learning maths\n",
      "my this class grade is 90% and next time InshaAllah will get 99%\n",
      "Ayaan is also learning another subjects\n"
     ]
    }
   ],
   "source": [
    "# Decorated Function\n",
    "@subjects\n",
    "def study(result, per):\n",
    "    print(f\"my this class grade is {result}% and next time InshaAllah will get {per}%\")\n",
    "study(90,99)"
   ]
  },
  {
   "cell_type": "code",
   "execution_count": 28,
   "id": "4c15a1c2-d357-46f1-aabb-b95e036c45bc",
   "metadata": {},
   "outputs": [
    {
     "name": "stdout",
     "output_type": "stream",
     "text": [
      "Ayaan is learning maths\n"
     ]
    },
    {
     "ename": "TypeError",
     "evalue": "study() takes 2 positional arguments but 3 were given",
     "output_type": "error",
     "traceback": [
      "\u001b[1;31m---------------------------------------------------------------------------\u001b[0m",
      "\u001b[1;31mTypeError\u001b[0m                                 Traceback (most recent call last)",
      "Cell \u001b[1;32mIn[28], line 4\u001b[0m\n\u001b[0;32m      1\u001b[0m \u001b[38;5;129m@subjects\u001b[39m\n\u001b[0;32m      2\u001b[0m \u001b[38;5;28;01mdef\u001b[39;00m \u001b[38;5;21mstudy\u001b[39m(result, per):\n\u001b[0;32m      3\u001b[0m     \u001b[38;5;28mprint\u001b[39m(\u001b[38;5;124mf\u001b[39m\u001b[38;5;124m\"\u001b[39m\u001b[38;5;124mmy this class grade is \u001b[39m\u001b[38;5;132;01m{\u001b[39;00mresult\u001b[38;5;132;01m}\u001b[39;00m\u001b[38;5;124m% and next time InshaAllah will get \u001b[39m\u001b[38;5;132;01m{\u001b[39;00mper\u001b[38;5;132;01m}\u001b[39;00m\u001b[38;5;124m%\u001b[39m\u001b[38;5;124m\"\u001b[39m)\n\u001b[1;32m----> 4\u001b[0m study(\u001b[38;5;241m90\u001b[39m,\u001b[38;5;241m99\u001b[39m,\u001b[38;5;241m120\u001b[39m)\n",
      "Cell \u001b[1;32mIn[26], line 5\u001b[0m, in \u001b[0;36msubjects.<locals>.student\u001b[1;34m(*args)\u001b[0m\n\u001b[0;32m      3\u001b[0m \u001b[38;5;28;01mdef\u001b[39;00m \u001b[38;5;21mstudent\u001b[39m(\u001b[38;5;241m*\u001b[39margs):\n\u001b[0;32m      4\u001b[0m     \u001b[38;5;28mprint\u001b[39m(\u001b[38;5;124m\"\u001b[39m\u001b[38;5;124mAyaan is learning maths\u001b[39m\u001b[38;5;124m\"\u001b[39m)\n\u001b[1;32m----> 5\u001b[0m     original_function(\u001b[38;5;241m*\u001b[39margs)\n\u001b[0;32m      6\u001b[0m     \u001b[38;5;28mprint\u001b[39m(\u001b[38;5;124m\"\u001b[39m\u001b[38;5;124mAyaan is also learning another subjects\u001b[39m\u001b[38;5;124m\"\u001b[39m)\n",
      "\u001b[1;31mTypeError\u001b[0m: study() takes 2 positional arguments but 3 were given"
     ]
    }
   ],
   "source": [
    "@subjects\n",
    "def study(result, per):\n",
    "    print(f\"my this class grade is {result}% and next time InshaAllah will get {per}%\")\n",
    "study(90,99,120)"
   ]
  },
  {
   "cell_type": "code",
   "execution_count": 29,
   "id": "53159120-295f-48e1-86b7-76d0bd729a8a",
   "metadata": {},
   "outputs": [
    {
     "name": "stdout",
     "output_type": "stream",
     "text": [
      "Ayaan is learning maths\n",
      "my this class grade is 90% and next time InshaAllah will get 99% here is 120\n",
      "Ayaan is also learning another subjects\n"
     ]
    }
   ],
   "source": [
    "@subjects\n",
    "def study(result, per,x):\n",
    "    print(f\"my this class grade is {result}% and next time InshaAllah will get {per}% here is {x}\")\n",
    "study(90,99,120)"
   ]
  },
  {
   "cell_type": "code",
   "execution_count": 30,
   "id": "d67fdbb4-30b7-4ebf-8b8a-4116503a040a",
   "metadata": {},
   "outputs": [
    {
     "ename": "TypeError",
     "evalue": "subjects.<locals>.student() got an unexpected keyword argument 'result'",
     "output_type": "error",
     "traceback": [
      "\u001b[1;31m---------------------------------------------------------------------------\u001b[0m",
      "\u001b[1;31mTypeError\u001b[0m                                 Traceback (most recent call last)",
      "Cell \u001b[1;32mIn[30], line 1\u001b[0m\n\u001b[1;32m----> 1\u001b[0m study(result \u001b[38;5;241m=\u001b[39m \u001b[38;5;241m70\u001b[39m, per \u001b[38;5;241m=\u001b[39m \u001b[38;5;241m80\u001b[39m)\n",
      "\u001b[1;31mTypeError\u001b[0m: subjects.<locals>.student() got an unexpected keyword argument 'result'"
     ]
    }
   ],
   "source": [
    "study(result = 70, per = 80)"
   ]
  },
  {
   "cell_type": "code",
   "execution_count": 31,
   "id": "fba9e5be-eacc-4656-94ad-502b949a803c",
   "metadata": {},
   "outputs": [
    {
     "ename": "SyntaxError",
     "evalue": "iterable argument unpacking follows keyword argument unpacking (503089610.py, line 5)",
     "output_type": "error",
     "traceback": [
      "\u001b[1;36m  Cell \u001b[1;32mIn[31], line 5\u001b[1;36m\u001b[0m\n\u001b[1;33m    original_function(**kwargs,*args)\u001b[0m\n\u001b[1;37m                              ^\u001b[0m\n\u001b[1;31mSyntaxError\u001b[0m\u001b[1;31m:\u001b[0m iterable argument unpacking follows keyword argument unpacking\n"
     ]
    }
   ],
   "source": [
    "# Decorator Function\n",
    "def subjects(original_function):\n",
    "    def student(*args,**kwargs):\n",
    "        print(\"Ayaan is learning maths\")\n",
    "        original_function(**kwargs,*args)\n",
    "        print(\"Ayaan is also learning another subjects\")\n",
    "    return student"
   ]
  },
  {
   "cell_type": "code",
   "execution_count": 32,
   "id": "6e1e1b08-c73f-4691-bf55-5cfae8062b1d",
   "metadata": {},
   "outputs": [],
   "source": [
    "# Decorator Function\n",
    "def subjects(original_function):\n",
    "    def student(*args,**kwargs):\n",
    "        print(\"Ayaan is learning maths\")\n",
    "        original_function(*args,**kwargs)\n",
    "        print(\"Ayaan is also learning another subjects\")\n",
    "    return student"
   ]
  },
  {
   "cell_type": "code",
   "execution_count": 33,
   "id": "1215ebfc-6a91-4578-a426-3005b64412e2",
   "metadata": {},
   "outputs": [
    {
     "name": "stdout",
     "output_type": "stream",
     "text": [
      "Ayaan is learning maths\n",
      "my this class grade is 90% and next time InshaAllah will get 99%\n",
      "Ayaan is also learning another subjects\n"
     ]
    }
   ],
   "source": [
    "# Decorated Function\n",
    "@subjects\n",
    "def study(result, per):\n",
    "    print(f\"my this class grade is {result}% and next time InshaAllah will get {per}%\")\n",
    "study(90,99) # Positional argument"
   ]
  },
  {
   "cell_type": "code",
   "execution_count": 34,
   "id": "f6ba4267-f8c3-4952-8587-19bc591143ca",
   "metadata": {},
   "outputs": [
    {
     "name": "stdout",
     "output_type": "stream",
     "text": [
      "Ayaan is learning maths\n",
      "my this class grade is 70% and next time InshaAllah will get 80%\n",
      "Ayaan is also learning another subjects\n"
     ]
    }
   ],
   "source": [
    "study(result = 70, per = 80) # Keywords argument"
   ]
  },
  {
   "cell_type": "code",
   "execution_count": 35,
   "id": "082ca47e-2418-4c3a-9307-2b78c2e23af3",
   "metadata": {},
   "outputs": [
    {
     "ename": "SyntaxError",
     "evalue": "positional argument follows keyword argument (4283696615.py, line 1)",
     "output_type": "error",
     "traceback": [
      "\u001b[1;36m  Cell \u001b[1;32mIn[35], line 1\u001b[1;36m\u001b[0m\n\u001b[1;33m    study(result=22, 88)\u001b[0m\n\u001b[1;37m                       ^\u001b[0m\n\u001b[1;31mSyntaxError\u001b[0m\u001b[1;31m:\u001b[0m positional argument follows keyword argument\n"
     ]
    }
   ],
   "source": [
    "study(result=22, 88)"
   ]
  },
  {
   "cell_type": "code",
   "execution_count": 36,
   "id": "fc1f97cb-f1cb-41a3-9ff8-dcb31283059f",
   "metadata": {},
   "outputs": [],
   "source": [
    "# Decorator Function\n",
    "def subjects(original_function):\n",
    "    def student(*args,**kwargs):\n",
    "        print(\"Ayaan is learning maths\")\n",
    "        original_function(*args,**kwargs)\n",
    "        print(\"Ayaan is also learning another subjects\")\n",
    "    return student"
   ]
  },
  {
   "cell_type": "code",
   "execution_count": 37,
   "id": "f4cd05ba-86fa-415a-89d8-db4de0130167",
   "metadata": {},
   "outputs": [],
   "source": [
    "# Decorated Function\n",
    "@subjects\n",
    "def study(result, per):\n",
    "    print(f\"my this class grade is {result}% and next time InshaAllah will get {per}%\")"
   ]
  },
  {
   "cell_type": "code",
   "execution_count": 38,
   "id": "6d8b4f5b-aea9-46a7-9daf-bfc4f656565a",
   "metadata": {},
   "outputs": [
    {
     "name": "stdout",
     "output_type": "stream",
     "text": [
      "Ayaan is learning maths\n",
      "my this class grade is 70% and next time InshaAllah will get 80%\n",
      "Ayaan is also learning another subjects\n"
     ]
    }
   ],
   "source": [
    "# one keyword and one positional argument\n",
    "study(70, per=80)"
   ]
  },
  {
   "cell_type": "code",
   "execution_count": 39,
   "id": "cf0d4c18-d6db-4346-ab9a-dcdbe896e88b",
   "metadata": {},
   "outputs": [
    {
     "ename": "SyntaxError",
     "evalue": "positional argument follows keyword argument (2120221367.py, line 1)",
     "output_type": "error",
     "traceback": [
      "\u001b[1;36m  Cell \u001b[1;32mIn[39], line 1\u001b[1;36m\u001b[0m\n\u001b[1;33m    study(result=70, 80)\u001b[0m\n\u001b[1;37m                       ^\u001b[0m\n\u001b[1;31mSyntaxError\u001b[0m\u001b[1;31m:\u001b[0m positional argument follows keyword argument\n"
     ]
    }
   ],
   "source": [
    "study(result=70, 80)"
   ]
  },
  {
   "cell_type": "code",
   "execution_count": 40,
   "id": "461a70cd-1af3-4be8-b466-ee7c71239931",
   "metadata": {},
   "outputs": [
    {
     "name": "stdout",
     "output_type": "stream",
     "text": [
      "Ayaan is learning maths\n"
     ]
    },
    {
     "ename": "TypeError",
     "evalue": "study() takes 2 positional arguments but 3 were given",
     "output_type": "error",
     "traceback": [
      "\u001b[1;31m---------------------------------------------------------------------------\u001b[0m",
      "\u001b[1;31mTypeError\u001b[0m                                 Traceback (most recent call last)",
      "Cell \u001b[1;32mIn[40], line 1\u001b[0m\n\u001b[1;32m----> 1\u001b[0m study(\u001b[38;5;241m22\u001b[39m,\u001b[38;5;241m22\u001b[39m,\u001b[38;5;241m22\u001b[39m)\n",
      "Cell \u001b[1;32mIn[36], line 5\u001b[0m, in \u001b[0;36msubjects.<locals>.student\u001b[1;34m(*args, **kwargs)\u001b[0m\n\u001b[0;32m      3\u001b[0m \u001b[38;5;28;01mdef\u001b[39;00m \u001b[38;5;21mstudent\u001b[39m(\u001b[38;5;241m*\u001b[39margs,\u001b[38;5;241m*\u001b[39m\u001b[38;5;241m*\u001b[39mkwargs):\n\u001b[0;32m      4\u001b[0m     \u001b[38;5;28mprint\u001b[39m(\u001b[38;5;124m\"\u001b[39m\u001b[38;5;124mAyaan is learning maths\u001b[39m\u001b[38;5;124m\"\u001b[39m)\n\u001b[1;32m----> 5\u001b[0m     original_function(\u001b[38;5;241m*\u001b[39margs,\u001b[38;5;241m*\u001b[39m\u001b[38;5;241m*\u001b[39mkwargs)\n\u001b[0;32m      6\u001b[0m     \u001b[38;5;28mprint\u001b[39m(\u001b[38;5;124m\"\u001b[39m\u001b[38;5;124mAyaan is also learning another subjects\u001b[39m\u001b[38;5;124m\"\u001b[39m)\n",
      "\u001b[1;31mTypeError\u001b[0m: study() takes 2 positional arguments but 3 were given"
     ]
    }
   ],
   "source": [
    "study(22,22,22)"
   ]
  },
  {
   "cell_type": "code",
   "execution_count": 41,
   "id": "4f76d944-5491-44a8-bfe9-772e06461baa",
   "metadata": {},
   "outputs": [
    {
     "name": "stdout",
     "output_type": "stream",
     "text": [
      "Ayaan is learning maths\n"
     ]
    },
    {
     "ename": "TypeError",
     "evalue": "study() got an unexpected keyword argument 'x'",
     "output_type": "error",
     "traceback": [
      "\u001b[1;31m---------------------------------------------------------------------------\u001b[0m",
      "\u001b[1;31mTypeError\u001b[0m                                 Traceback (most recent call last)",
      "Cell \u001b[1;32mIn[41], line 1\u001b[0m\n\u001b[1;32m----> 1\u001b[0m study(\u001b[38;5;241m22\u001b[39m,\u001b[38;5;241m22\u001b[39m,x\u001b[38;5;241m=\u001b[39m\u001b[38;5;241m22\u001b[39m)\n",
      "Cell \u001b[1;32mIn[36], line 5\u001b[0m, in \u001b[0;36msubjects.<locals>.student\u001b[1;34m(*args, **kwargs)\u001b[0m\n\u001b[0;32m      3\u001b[0m \u001b[38;5;28;01mdef\u001b[39;00m \u001b[38;5;21mstudent\u001b[39m(\u001b[38;5;241m*\u001b[39margs,\u001b[38;5;241m*\u001b[39m\u001b[38;5;241m*\u001b[39mkwargs):\n\u001b[0;32m      4\u001b[0m     \u001b[38;5;28mprint\u001b[39m(\u001b[38;5;124m\"\u001b[39m\u001b[38;5;124mAyaan is learning maths\u001b[39m\u001b[38;5;124m\"\u001b[39m)\n\u001b[1;32m----> 5\u001b[0m     original_function(\u001b[38;5;241m*\u001b[39margs,\u001b[38;5;241m*\u001b[39m\u001b[38;5;241m*\u001b[39mkwargs)\n\u001b[0;32m      6\u001b[0m     \u001b[38;5;28mprint\u001b[39m(\u001b[38;5;124m\"\u001b[39m\u001b[38;5;124mAyaan is also learning another subjects\u001b[39m\u001b[38;5;124m\"\u001b[39m)\n",
      "\u001b[1;31mTypeError\u001b[0m: study() got an unexpected keyword argument 'x'"
     ]
    }
   ],
   "source": [
    "study(22,22,x=22)"
   ]
  },
  {
   "cell_type": "markdown",
   "id": "15df8c9a-c146-40c9-9cde-ce1501402a46",
   "metadata": {},
   "source": [
    "## Error Handling"
   ]
  },
  {
   "cell_type": "markdown",
   "id": "c2e4d722-aa51-461d-85df-9b89da86c44b",
   "metadata": {},
   "source": [
    "### try, except, else, finally"
   ]
  },
  {
   "cell_type": "code",
   "execution_count": 42,
   "id": "1f6d4a85-766c-4e18-b681-185c64639395",
   "metadata": {},
   "outputs": [
    {
     "ename": "ZeroDivisionError",
     "evalue": "division by zero",
     "output_type": "error",
     "traceback": [
      "\u001b[1;31m---------------------------------------------------------------------------\u001b[0m",
      "\u001b[1;31mZeroDivisionError\u001b[0m                         Traceback (most recent call last)",
      "Cell \u001b[1;32mIn[42], line 1\u001b[0m\n\u001b[1;32m----> 1\u001b[0m \u001b[38;5;28mprint\u001b[39m(\u001b[38;5;241m2\u001b[39m\u001b[38;5;241m/\u001b[39m\u001b[38;5;241m0\u001b[39m)\n",
      "\u001b[1;31mZeroDivisionError\u001b[0m: division by zero"
     ]
    }
   ],
   "source": [
    "print(2/0)"
   ]
  },
  {
   "cell_type": "code",
   "execution_count": 43,
   "id": "8551f6fc-32d0-4ba3-a5ee-0dd18b02cc9a",
   "metadata": {},
   "outputs": [
    {
     "name": "stdout",
     "output_type": "stream",
     "text": [
      "cannot divide by zero\n"
     ]
    }
   ],
   "source": [
    "try:                   #provide multiple logic in try block\n",
    "    print(2/0)\n",
    "except:\n",
    "    print('cannot divide by zero')"
   ]
  },
  {
   "cell_type": "code",
   "execution_count": 44,
   "id": "2d858348-6f94-4db1-9af5-ad5559ad528b",
   "metadata": {},
   "outputs": [
    {
     "name": "stdout",
     "output_type": "stream",
     "text": [
      "0.4\n"
     ]
    }
   ],
   "source": [
    "print(2/5)"
   ]
  },
  {
   "cell_type": "code",
   "execution_count": 45,
   "id": "60beae8b-414b-4f5b-a463-b07ccbef5a32",
   "metadata": {},
   "outputs": [
    {
     "name": "stdout",
     "output_type": "stream",
     "text": [
      "0.4\n"
     ]
    }
   ],
   "source": [
    "try:                   #provide multiple logic in try block\n",
    "    print(2/5)\n",
    "except:\n",
    "    print('cannot divide by zero')"
   ]
  },
  {
   "cell_type": "code",
   "execution_count": 46,
   "id": "28c7c82f-6f96-4c8d-8f83-c187544d0df2",
   "metadata": {},
   "outputs": [
    {
     "name": "stdout",
     "output_type": "stream",
     "text": [
      "0.4\n",
      "error\n",
      "1.0\n"
     ]
    }
   ],
   "source": [
    "print(2/5)\n",
    "\n",
    "try:\n",
    "    print(2/0)\n",
    "except ZeroDivisionError:\n",
    "    print('error')\n",
    "\n",
    "print(2/2)"
   ]
  },
  {
   "cell_type": "code",
   "execution_count": 48,
   "id": "a0bd6e43-e5ef-41c2-a5ec-cc5be3412e36",
   "metadata": {},
   "outputs": [
    {
     "name": "stdin",
     "output_type": "stream",
     "text": [
      "Enter Number:  abc\n"
     ]
    },
    {
     "name": "stdout",
     "output_type": "stream",
     "text": [
      "invalid number\n"
     ]
    }
   ],
   "source": [
    "try:\n",
    "    x = int(input('Enter Number: '))\n",
    "    print('valid number')\n",
    "except ValueError:\n",
    "    print('invalid number')"
   ]
  },
  {
   "cell_type": "code",
   "execution_count": 50,
   "id": "b7b0fdbe-2610-4ddf-ab12-dc0e26d0bbc3",
   "metadata": {},
   "outputs": [
    {
     "name": "stdin",
     "output_type": "stream",
     "text": [
      "Enter Number:  abc\n"
     ]
    },
    {
     "ename": "NameError",
     "evalue": "name 'valueerror' is not defined",
     "output_type": "error",
     "traceback": [
      "\u001b[1;31m---------------------------------------------------------------------------\u001b[0m",
      "\u001b[1;31mValueError\u001b[0m                                Traceback (most recent call last)",
      "Cell \u001b[1;32mIn[50], line 2\u001b[0m\n\u001b[0;32m      1\u001b[0m \u001b[38;5;28;01mtry\u001b[39;00m:\n\u001b[1;32m----> 2\u001b[0m     x \u001b[38;5;241m=\u001b[39m \u001b[38;5;28mint\u001b[39m(\u001b[38;5;28minput\u001b[39m(\u001b[38;5;124m'\u001b[39m\u001b[38;5;124mEnter Number: \u001b[39m\u001b[38;5;124m'\u001b[39m))\n\u001b[0;32m      3\u001b[0m     \u001b[38;5;28mprint\u001b[39m(\u001b[38;5;124m'\u001b[39m\u001b[38;5;124mvalid number\u001b[39m\u001b[38;5;124m'\u001b[39m)\n",
      "\u001b[1;31mValueError\u001b[0m: invalid literal for int() with base 10: 'abc'",
      "\nDuring handling of the above exception, another exception occurred:\n",
      "\u001b[1;31mNameError\u001b[0m                                 Traceback (most recent call last)",
      "Cell \u001b[1;32mIn[50], line 4\u001b[0m\n\u001b[0;32m      2\u001b[0m     x \u001b[38;5;241m=\u001b[39m \u001b[38;5;28mint\u001b[39m(\u001b[38;5;28minput\u001b[39m(\u001b[38;5;124m'\u001b[39m\u001b[38;5;124mEnter Number: \u001b[39m\u001b[38;5;124m'\u001b[39m))\n\u001b[0;32m      3\u001b[0m     \u001b[38;5;28mprint\u001b[39m(\u001b[38;5;124m'\u001b[39m\u001b[38;5;124mvalid number\u001b[39m\u001b[38;5;124m'\u001b[39m)\n\u001b[1;32m----> 4\u001b[0m \u001b[38;5;28;01mexcept\u001b[39;00m valueerror:\n\u001b[0;32m      5\u001b[0m     \u001b[38;5;28mprint\u001b[39m(\u001b[38;5;124m'\u001b[39m\u001b[38;5;124minvalid number\u001b[39m\u001b[38;5;124m'\u001b[39m)\n",
      "\u001b[1;31mNameError\u001b[0m: name 'valueerror' is not defined"
     ]
    }
   ],
   "source": [
    "try:\n",
    "    x = int(input('Enter Number: '))\n",
    "    print('valid number')\n",
    "except valueerror:\n",
    "    print('invalid number')"
   ]
  },
  {
   "cell_type": "code",
   "execution_count": 51,
   "id": "740b86e1-f68b-43c2-ac4a-3010c3c224c5",
   "metadata": {},
   "outputs": [
    {
     "name": "stdin",
     "output_type": "stream",
     "text": [
      "Enter a number:  abc\n"
     ]
    },
    {
     "name": "stdout",
     "output_type": "stream",
     "text": [
      "invalid number\n"
     ]
    }
   ],
   "source": [
    "try: \n",
    "    x = int(input(\"Enter a number: \"))\n",
    "    y = 10 / x\n",
    "    print(f\"Result: {y}\")\n",
    "except ZeroDivisionError:         #more than one exception\n",
    "    print('cannot divide by zero')\n",
    "except ValueError:\n",
    "    print('invalid number')"
   ]
  },
  {
   "cell_type": "code",
   "execution_count": 53,
   "id": "56d40faa-71b2-42a9-8b91-eacc0ae925ef",
   "metadata": {},
   "outputs": [
    {
     "name": "stdin",
     "output_type": "stream",
     "text": [
      "Enter a number:  ac\n"
     ]
    },
    {
     "name": "stdout",
     "output_type": "stream",
     "text": [
      "invalid input: invalid literal for int() with base 10: 'ac'\n"
     ]
    }
   ],
   "source": [
    "try:\n",
    "    x = int(input(\"Enter a number: \"))\n",
    "    y = 10 / x\n",
    "    print(f\"Result: {y}\")\n",
    "except Exception as error: #used to hanlde python built-in exceptions #alias\n",
    "    print('invalid input:', error)"
   ]
  },
  {
   "cell_type": "code",
   "execution_count": 54,
   "id": "c781646d-00b2-4e8c-84aa-129c1bc26e28",
   "metadata": {},
   "outputs": [
    {
     "name": "stdin",
     "output_type": "stream",
     "text": [
      "Enter a number:  0\n"
     ]
    },
    {
     "name": "stdout",
     "output_type": "stream",
     "text": [
      "An unexpected error occurred: <class 'Exception'>\n"
     ]
    }
   ],
   "source": [
    "try:\n",
    "    x = int(input(\"Enter a number: \"))\n",
    "    y = 10 / x\n",
    "    print(f\"Result: {y}\")\n",
    "except Exception:\n",
    "    print(f\"An unexpected error occurred: {Exception}\")"
   ]
  },
  {
   "cell_type": "code",
   "execution_count": 55,
   "id": "36a172ed-4cbd-477a-a382-a79661ec558a",
   "metadata": {},
   "outputs": [
    {
     "name": "stdin",
     "output_type": "stream",
     "text": [
      "Enter a number:  1\n"
     ]
    },
    {
     "name": "stdout",
     "output_type": "stream",
     "text": [
      "Result: 10.0\n"
     ]
    }
   ],
   "source": [
    "try:\n",
    "    x = int(input(\"Enter a number: \"))\n",
    "    y = 10 / x\n",
    "    print(f\"Result: {y}\")\n",
    "except Exception as error:\n",
    "    print(f\"An unexpected error occurred: {error}\")"
   ]
  },
  {
   "cell_type": "code",
   "execution_count": 56,
   "id": "20bc560b-b630-4092-9008-76256f3b3435",
   "metadata": {},
   "outputs": [
    {
     "name": "stdin",
     "output_type": "stream",
     "text": [
      "Enter a number:  2\n"
     ]
    },
    {
     "name": "stdout",
     "output_type": "stream",
     "text": [
      "You entered the number: 2\n"
     ]
    }
   ],
   "source": [
    "try:\n",
    "    number = int(input(\"Enter a number: \"))\n",
    "except ValueError:\n",
    "    print(\"That's not a valid number!\")\n",
    "else: #optional\n",
    "    print(f\"You entered the number: {number}\")"
   ]
  },
  {
   "cell_type": "code",
   "execution_count": 58,
   "id": "3b1cdc58-aadf-4f44-91e5-6cc5375c7d11",
   "metadata": {},
   "outputs": [
    {
     "name": "stdin",
     "output_type": "stream",
     "text": [
      "Enter a number:  2\n"
     ]
    },
    {
     "name": "stdout",
     "output_type": "stream",
     "text": [
      "You entered the number: 2\n"
     ]
    }
   ],
   "source": [
    "try:\n",
    "    number = int(input(\"Enter a number: \"))\n",
    "    print(f\"You entered the number: {number}\") #without else\n",
    "except ValueError:\n",
    "    print(\"That's not a valid number!\")\n",
    "# else: #optional\n",
    "#     print(f\"You entered the number: {number}\")"
   ]
  },
  {
   "cell_type": "code",
   "execution_count": 59,
   "id": "9a0d2b62-c61a-4edb-b43f-75baaabe4ef6",
   "metadata": {},
   "outputs": [
    {
     "name": "stdin",
     "output_type": "stream",
     "text": [
      "Enter a number:  22\n"
     ]
    },
    {
     "name": "stdout",
     "output_type": "stream",
     "text": [
      "You entered the number: 22\n",
      "Thanks for using this app\n"
     ]
    }
   ],
   "source": [
    "try:\n",
    "    number = int(input(\"Enter a number: \"))\n",
    "except ValueError:\n",
    "    print(\"That's not a valid number!\")\n",
    "else: #optional\n",
    "    print(f\"You entered the number: {number}\")\n",
    "finally:\n",
    "    print('Thanks for using this app')"
   ]
  },
  {
   "cell_type": "code",
   "execution_count": 60,
   "id": "b2949a50-cdf2-477f-a936-621f82666615",
   "metadata": {},
   "outputs": [
    {
     "name": "stdin",
     "output_type": "stream",
     "text": [
      "enter 1st num:  2\n",
      "enter 2nd num:  e\n"
     ]
    },
    {
     "name": "stdout",
     "output_type": "stream",
     "text": [
      "invalid number\n",
      "thank you\n"
     ]
    }
   ],
   "source": [
    "# Write a program to handle division of two numbers\n",
    "\n",
    "try:\n",
    "    x = int(input('enter 1st num: '))\n",
    "    y = int(input('enter 2nd num: '))\n",
    "\n",
    "    result = x/y\n",
    "\n",
    "except ZeroDivisionError:\n",
    "    print('cannot divided by zero')\n",
    "except ValueError:\n",
    "    print('invalid number')\n",
    "else:\n",
    "    print(f\"your number is {result}\")\n",
    "finally:\n",
    "    print('thank you')"
   ]
  },
  {
   "cell_type": "markdown",
   "id": "12abd422-0886-4794-84b9-360ddc1d7e0c",
   "metadata": {},
   "source": [
    "## Class Assignment:"
   ]
  },
  {
   "cell_type": "markdown",
   "id": "c53ae070-f9e4-4bf8-9418-39b663a7bf06",
   "metadata": {},
   "source": [
    "Question: 1 Write a program that checks if a number is even or odd. If the user inputs a non-numeric value, display an error message. If the number is even, print \"Even\", otherwise print \"Odd\". Finally, always print \"Check complete\"."
   ]
  },
  {
   "cell_type": "code",
   "execution_count": 61,
   "id": "611da41d-6251-4039-aa20-80a2d8fdcc55",
   "metadata": {},
   "outputs": [
    {
     "name": "stdin",
     "output_type": "stream",
     "text": [
      "Enter a number:  10\n"
     ]
    },
    {
     "name": "stdout",
     "output_type": "stream",
     "text": [
      "Even\n",
      "Check complete.\n"
     ]
    }
   ],
   "source": [
    "try:\n",
    "    number = int(input(\"Enter a number: \"))\n",
    "    \n",
    "    if number % 2 == 0:\n",
    "        print(\"Even\")\n",
    "    else:\n",
    "        print(\"Odd\")\n",
    "except ValueError:\n",
    "    print(\"Error: Please enter a valid integer.\")\n",
    "finally:\n",
    "    print(\"Check complete.\")"
   ]
  },
  {
   "cell_type": "markdown",
   "id": "6969f0cf-150f-49f6-883e-6f71154dddf9",
   "metadata": {},
   "source": [
    "Question: 2 Write a program that asks the user for an index and tries to access that index in a predefined list. Handle IndexError if the user enters an index that doesn't exist, and handle ValueError if the user inputs a non-numeric value."
   ]
  },
  {
   "cell_type": "markdown",
   "id": "9b8b4fa5-6803-47b5-9c6f-52392039d350",
   "metadata": {},
   "source": [
    "lst = [10,20,30,40,50,60]"
   ]
  },
  {
   "cell_type": "code",
   "execution_count": 62,
   "id": "a59cf062-1bfb-4822-94d9-bb2f6106746b",
   "metadata": {},
   "outputs": [
    {
     "name": "stdin",
     "output_type": "stream",
     "text": [
      "Enter the index to access from the list:  40\n"
     ]
    },
    {
     "name": "stdout",
     "output_type": "stream",
     "text": [
      "error: list index out of range\n",
      "Index access operation completed.\n"
     ]
    }
   ],
   "source": [
    "my_list = [10, 20, 30, 40, 50]\n",
    "\n",
    "try:\n",
    "    index = int(input(\"Enter the index to access from the list: \"))\n",
    "    print(f\"The value at index {index} is {my_list[index]}\")\n",
    "except Exception as e:\n",
    "    print(\"error:\", e)\n",
    "except ValueError:\n",
    "    print(\"Error: Please enter a valid integer.\")\n",
    "finally:\n",
    "    print(\"Index access operation completed.\")"
   ]
  },
  {
   "cell_type": "markdown",
   "id": "ad74c85d-df40-4538-8f50-1f5923fd2adb",
   "metadata": {},
   "source": [
    "Question: 3 Write a program that checks if a number is divisble by 5. If the user inputs a non-numeric value, display an error message. If the number is divisble by 5, print \"number is divisble\", otherwise print \"not divisible\". Finally, always print \"Check complete"
   ]
  },
  {
   "cell_type": "code",
   "execution_count": 65,
   "id": "2d5f9a7b-a2ac-4172-97e6-7bebcbb1bc50",
   "metadata": {},
   "outputs": [
    {
     "name": "stdin",
     "output_type": "stream",
     "text": [
      "Enter a number:  10\n"
     ]
    },
    {
     "name": "stdout",
     "output_type": "stream",
     "text": [
      "Divisible\n",
      "Check complete.\n"
     ]
    }
   ],
   "source": [
    "try:\n",
    "    number = int(input(\"Enter a number: \"))\n",
    "    \n",
    "    if number % 5 == 0:\n",
    "        print(\"Divisible\")\n",
    "    else:\n",
    "        print(\"Not divisible\")\n",
    "except ValueError:\n",
    "    print(\"Error: Please enter a valid integer.\")\n",
    "finally:\n",
    "    print(\"Check complete.\")"
   ]
  },
  {
   "cell_type": "code",
   "execution_count": null,
   "id": "a2436043-8ca4-406f-96e3-dc8a8fface05",
   "metadata": {},
   "outputs": [],
   "source": []
  }
 ],
 "metadata": {
  "kernelspec": {
   "display_name": "Python 3 (ipykernel)",
   "language": "python",
   "name": "python3"
  },
  "language_info": {
   "codemirror_mode": {
    "name": "ipython",
    "version": 3
   },
   "file_extension": ".py",
   "mimetype": "text/x-python",
   "name": "python",
   "nbconvert_exporter": "python",
   "pygments_lexer": "ipython3",
   "version": "3.12.7"
  }
 },
 "nbformat": 4,
 "nbformat_minor": 5
}
